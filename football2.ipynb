{
 "cells": [
  {
   "cell_type": "code",
   "execution_count": 16,
   "metadata": {},
   "outputs": [
    {
     "ename": "ModuleNotFoundError",
     "evalue": "No module named 'Functions'",
     "output_type": "error",
     "traceback": [
      "\u001b[1;31m---------------------------------------------------------------------------\u001b[0m",
      "\u001b[1;31mModuleNotFoundError\u001b[0m                       Traceback (most recent call last)",
      "\u001b[1;32mc:\\Users\\Okoro Chima\\Desktop\\python practice\\football2.ipynb Cell 1'\u001b[0m in \u001b[0;36m<module>\u001b[1;34m\u001b[0m\n\u001b[0;32m      <a href='vscode-notebook-cell:/c%3A/Users/Okoro%20Chima/Desktop/python%20practice/football2.ipynb#ch0000000?line=1'>2</a>\u001b[0m \u001b[39mfrom\u001b[39;00m \u001b[39mmplsoccer\u001b[39;00m \u001b[39mimport\u001b[39;00m Pitch\n\u001b[0;32m      <a href='vscode-notebook-cell:/c%3A/Users/Okoro%20Chima/Desktop/python%20practice/football2.ipynb#ch0000000?line=2'>3</a>\u001b[0m \u001b[39mfrom\u001b[39;00m \u001b[39mmplsoccer\u001b[39;00m\u001b[39m.\u001b[39;00m\u001b[39mstatsbomb\u001b[39;00m \u001b[39mimport\u001b[39;00m read_event, EVENT_SLUG\n\u001b[1;32m----> <a href='vscode-notebook-cell:/c%3A/Users/Okoro%20Chima/Desktop/python%20practice/football2.ipynb#ch0000000?line=3'>4</a>\u001b[0m \u001b[39mimport\u001b[39;00m \u001b[39mFunctions\u001b[39;00m\n",
      "\u001b[1;31mModuleNotFoundError\u001b[0m: No module named 'Functions'"
     ]
    }
   ],
   "source": [
    "from statsbombpy import sb\n",
    "from mplsoccer import Pitch\n",
    "from mplsoccer.statsbomb import read_event, EVENT_SLUG\n",
    "# import Functions"
   ]
  },
  {
   "cell_type": "code",
   "execution_count": 4,
   "metadata": {},
   "outputs": [
    {
     "name": "stdout",
     "output_type": "stream",
     "text": [
      "https://raw.githubusercontent.com/statsbomb/open-data/master/data/events/22912.json\n"
     ]
    }
   ],
   "source": [
    "matchId = '22912'\n",
    "matchJson = f'{EVENT_SLUG}/{matchId}.json'\n",
    "print(matchJson)"
   ]
  },
  {
   "cell_type": "code",
   "execution_count": 8,
   "metadata": {},
   "outputs": [
    {
     "name": "stderr",
     "output_type": "stream",
     "text": [
      "C:\\Users\\Okoro Chima\\AppData\\Local\\Programs\\Python\\Python310\\lib\\site-packages\\mplsoccer\\statsbomb.py:113: UserWarning: Please be responsible with Statsbomb data.Register your details on https://www.statsbomb.com/resource-centreand read the User Agreement carefully (on the same page).\n",
      "  warnings.warn(STATSBOMB_WARNING)\n",
      "C:\\Users\\Okoro Chima\\AppData\\Local\\Programs\\Python\\Python310\\lib\\site-packages\\mplsoccer\\statsbomb.py:70: FutureWarning: Passing a set as an indexer is deprecated and will raise in a future version. Use a list instead.\n",
      "  df_melt = df[cols].melt(ignore_index=False).copy()\n",
      "C:\\Users\\Okoro Chima\\AppData\\Local\\Programs\\Python\\Python310\\lib\\site-packages\\mplsoccer\\statsbomb.py:70: FutureWarning: Passing a set as an indexer is deprecated and will raise in a future version. Use a list instead.\n",
      "  df_melt = df[cols].melt(ignore_index=False).copy()\n"
     ]
    },
    {
     "name": "stdout",
     "output_type": "stream",
     "text": [
      "dict_keys(['related_event', 'shot_freeze_frame', 'tactics_lineup', 'event'])\n"
     ]
    }
   ],
   "source": [
    "eventDict = read_event(matchJson)\n",
    "print(eventDict.keys())\n"
   ]
  },
  {
   "cell_type": "code",
   "execution_count": 9,
   "metadata": {},
   "outputs": [
    {
     "name": "stdout",
     "output_type": "stream",
     "text": [
      "Index(['match_id', 'id', 'index', 'period', 'timestamp_minute',\n",
      "       'timestamp_second', 'timestamp_millisecond', 'minute', 'second',\n",
      "       'type_id', 'type_name', 'sub_type_id', 'sub_type_name', 'outcome_id',\n",
      "       'outcome_name', 'play_pattern_id', 'play_pattern_name',\n",
      "       'possession_team_id', 'possession', 'possession_team_name', 'team_id',\n",
      "       'team_name', 'player_id', 'player_name', 'position_id', 'position_name',\n",
      "       'duration', 'x', 'y', 'z', 'end_x', 'end_y', 'end_z', 'body_part_id',\n",
      "       'body_part_name', 'technique_id', 'technique_name', 'under_pressure',\n",
      "       'off_camera', 'counterpress', 'out', 'pass_length', 'pass_angle',\n",
      "       'pass_recipient_id', 'pass_recipient_name', 'pass_height_id',\n",
      "       'pass_height_name', 'pass_switch', 'pass_cross',\n",
      "       'pass_assisted_shot_id', 'pass_shot_assist', 'pass_cut_back',\n",
      "       'pass_deflected', 'pass_goal_assist', 'ball_recovery_recovery_failure',\n",
      "       'block_deflection', 'block_offensive', 'dribble_overrun',\n",
      "       'dribble_nutmeg', 'foul_committed_penalty', 'foul_committed_type_id',\n",
      "       'foul_committed_type_name', 'foul_committed_advantage',\n",
      "       'foul_committed_offensive', 'foul_won_advantage', 'foul_won_defensive',\n",
      "       'goalkeeper_position_id', 'goalkeeper_position_name',\n",
      "       'shot_statsbomb_xg', 'shot_key_pass_id', 'shot_first_time',\n",
      "       'substitution_replacement_id', 'substitution_replacement_name',\n",
      "       'tactics_formation', 'aerial_won'],\n",
      "      dtype='object')\n"
     ]
    }
   ],
   "source": [
    "event_df = eventDict['event']\n",
    "print(event_df.keys())"
   ]
  },
  {
   "cell_type": "code",
   "execution_count": 11,
   "metadata": {},
   "outputs": [],
   "source": [
    "def get_team_names():\n",
    "    team1, team2 = event_df.team_name.unique()\n",
    "    return team1, team2"
   ]
  },
  {
   "cell_type": "code",
   "execution_count": 18,
   "metadata": {},
   "outputs": [],
   "source": [
    "def get_pass_df(team):\n",
    "    team_pass_name = (event_df.type.name == 'Pass') & (event_df.team_name == team)\n",
    "    print(event_df.type_name.unique())"
   ]
  },
  {
   "cell_type": "code",
   "execution_count": null,
   "metadata": {},
   "outputs": [],
   "source": []
  }
 ],
 "metadata": {
  "interpreter": {
   "hash": "71bfb51a6c7d12e96c31526a06b497ae047efee28c53c237561b4ad5b9463bce"
  },
  "kernelspec": {
   "display_name": "Python 3.10.2 64-bit",
   "language": "python",
   "name": "python3"
  },
  "language_info": {
   "codemirror_mode": {
    "name": "ipython",
    "version": 3
   },
   "file_extension": ".py",
   "mimetype": "text/x-python",
   "name": "python",
   "nbconvert_exporter": "python",
   "pygments_lexer": "ipython3",
   "version": "3.10.2"
  },
  "orig_nbformat": 4
 },
 "nbformat": 4,
 "nbformat_minor": 2
}
